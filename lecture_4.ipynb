{
 "cells": [
  {
   "cell_type": "markdown",
   "metadata": {
    "slideshow": {
     "slide_type": "slide"
    }
   },
   "source": [
    "\n",
    "\n",
    "**Machine Learning I (Semester 1 2025)**\n",
    "# Tutorial Session 4: Model Selection & Regularization\n",
    "\n",
    "*N. Hernitschek*\n",
    "\n",
    "\n",
    "\n",
    "This Jupyter notebook gives an introduction to model selection and regularization for linear regression.\n",
    "\n",
    "It is based on code from the textbook\n",
    "\n",
    "*An Introduction to Statistical Learning: with Applications in Python.*\n",
    "James Witten, Hastie, Tibshirani; Springer.\n",
    "\n",
    "which is vailable for free as PDF: https://www.statlearning.com/\n",
    "\n",
    "\n",
    "***Exercises required for class participation are in <font color='red'>red</font>.***"
   ]
  },
  {
   "cell_type": "markdown",
   "metadata": {},
   "source": [
    "---\n",
    "## Contents\n",
    "* [Importing Packages](#first-bullet)\n",
    "* [Best subset selection](#second-bullet)\n",
    "* [Forward subset selection](#third-bullet)\n",
    "* [The ridge and lasso method](#fourth-bullet)\n",
    "* [Comparing models: AIC, BIC, $C_p$](#fifth-bullet)\n",
    "* [Other methods in `sklearn`](#sixth-bullet)\n",
    "\n",
    "\n"
   ]
  },
  {
   "cell_type": "markdown",
   "metadata": {},
   "source": []
  },
  {
   "cell_type": "markdown",
   "metadata": {},
   "source": [
    "## 1. Importing Packages <a class=\"anchor\" id=\"first-bullet\"></a>\n",
    "\n",
    "We start with importing some of our libraries:"
   ]
  },
  {
   "cell_type": "code",
   "execution_count": 1,
   "metadata": {},
   "outputs": [],
   "source": [
    "import itertools\n",
    "import time\n",
    "import numpy as np\n",
    "import pandas as pd\n",
    "import seaborn as sns\n",
    "import statsmodels.api as sm\n",
    "import matplotlib.pyplot as plt\n",
    "from sklearn import linear_model\n",
    "from sklearn.metrics import mean_squared_error\n",
    "\n",
    "from ISLP import load_data\n",
    "\n",
    "\n",
    "%matplotlib inline\n"
   ]
  },
  {
   "cell_type": "markdown",
   "metadata": {},
   "source": [
    "### The dataset\n",
    "\n",
    "The `credit` dataset is an example data set on which we will do linear regression. Some predictors are qualitative."
   ]
  },
  {
   "cell_type": "code",
   "execution_count": 2,
   "metadata": {},
   "outputs": [
    {
     "data": {
      "text/plain": [
       "Index(['ID', 'Income', 'Limit', 'Rating', 'Cards', 'Age', 'Education',\n",
       "       'Gender', 'Student', 'Married', 'Ethnicity', 'Balance'],\n",
       "      dtype='object')"
      ]
     },
     "execution_count": 2,
     "metadata": {},
     "output_type": "execute_result"
    }
   ],
   "source": [
    "credit = load_data(\"Credit\")\n",
    "credit.columns\n"
   ]
  },
  {
   "cell_type": "code",
   "execution_count": 3,
   "metadata": {},
   "outputs": [
    {
     "data": {
      "text/html": [
       "<div>\n",
       "<style scoped>\n",
       "    .dataframe tbody tr th:only-of-type {\n",
       "        vertical-align: middle;\n",
       "    }\n",
       "\n",
       "    .dataframe tbody tr th {\n",
       "        vertical-align: top;\n",
       "    }\n",
       "\n",
       "    .dataframe thead th {\n",
       "        text-align: right;\n",
       "    }\n",
       "</style>\n",
       "<table border=\"1\" class=\"dataframe\">\n",
       "  <thead>\n",
       "    <tr style=\"text-align: right;\">\n",
       "      <th></th>\n",
       "      <th>ID</th>\n",
       "      <th>Income</th>\n",
       "      <th>Limit</th>\n",
       "      <th>Rating</th>\n",
       "      <th>Cards</th>\n",
       "      <th>Age</th>\n",
       "      <th>Education</th>\n",
       "      <th>Gender</th>\n",
       "      <th>Student</th>\n",
       "      <th>Married</th>\n",
       "      <th>Ethnicity</th>\n",
       "      <th>Balance</th>\n",
       "    </tr>\n",
       "  </thead>\n",
       "  <tbody>\n",
       "    <tr>\n",
       "      <th>0</th>\n",
       "      <td>1</td>\n",
       "      <td>14.891</td>\n",
       "      <td>3606</td>\n",
       "      <td>283</td>\n",
       "      <td>2</td>\n",
       "      <td>34</td>\n",
       "      <td>11</td>\n",
       "      <td>Male</td>\n",
       "      <td>No</td>\n",
       "      <td>Yes</td>\n",
       "      <td>Caucasian</td>\n",
       "      <td>333</td>\n",
       "    </tr>\n",
       "    <tr>\n",
       "      <th>1</th>\n",
       "      <td>2</td>\n",
       "      <td>106.025</td>\n",
       "      <td>6645</td>\n",
       "      <td>483</td>\n",
       "      <td>3</td>\n",
       "      <td>82</td>\n",
       "      <td>15</td>\n",
       "      <td>Female</td>\n",
       "      <td>Yes</td>\n",
       "      <td>Yes</td>\n",
       "      <td>Asian</td>\n",
       "      <td>903</td>\n",
       "    </tr>\n",
       "    <tr>\n",
       "      <th>2</th>\n",
       "      <td>3</td>\n",
       "      <td>104.593</td>\n",
       "      <td>7075</td>\n",
       "      <td>514</td>\n",
       "      <td>4</td>\n",
       "      <td>71</td>\n",
       "      <td>11</td>\n",
       "      <td>Male</td>\n",
       "      <td>No</td>\n",
       "      <td>No</td>\n",
       "      <td>Asian</td>\n",
       "      <td>580</td>\n",
       "    </tr>\n",
       "    <tr>\n",
       "      <th>3</th>\n",
       "      <td>4</td>\n",
       "      <td>148.924</td>\n",
       "      <td>9504</td>\n",
       "      <td>681</td>\n",
       "      <td>3</td>\n",
       "      <td>36</td>\n",
       "      <td>11</td>\n",
       "      <td>Female</td>\n",
       "      <td>No</td>\n",
       "      <td>No</td>\n",
       "      <td>Asian</td>\n",
       "      <td>964</td>\n",
       "    </tr>\n",
       "    <tr>\n",
       "      <th>4</th>\n",
       "      <td>5</td>\n",
       "      <td>55.882</td>\n",
       "      <td>4897</td>\n",
       "      <td>357</td>\n",
       "      <td>2</td>\n",
       "      <td>68</td>\n",
       "      <td>16</td>\n",
       "      <td>Male</td>\n",
       "      <td>No</td>\n",
       "      <td>Yes</td>\n",
       "      <td>Caucasian</td>\n",
       "      <td>331</td>\n",
       "    </tr>\n",
       "  </tbody>\n",
       "</table>\n",
       "</div>"
      ],
      "text/plain": [
       "   ID   Income  Limit  Rating  Cards  Age  Education  Gender Student Married  \\\n",
       "0   1   14.891   3606     283      2   34         11    Male      No     Yes   \n",
       "1   2  106.025   6645     483      3   82         15  Female     Yes     Yes   \n",
       "2   3  104.593   7075     514      4   71         11    Male      No      No   \n",
       "3   4  148.924   9504     681      3   36         11  Female      No      No   \n",
       "4   5   55.882   4897     357      2   68         16    Male      No     Yes   \n",
       "\n",
       "   Ethnicity  Balance  \n",
       "0  Caucasian      333  \n",
       "1      Asian      903  \n",
       "2      Asian      580  \n",
       "3      Asian      964  \n",
       "4  Caucasian      331  "
      ]
     },
     "execution_count": 3,
     "metadata": {},
     "output_type": "execute_result"
    }
   ],
   "source": [
    "credit.head()"
   ]
  },
  {
   "cell_type": "markdown",
   "metadata": {},
   "source": [
    "### Encoding qualitative data\n",
    "The `pandas` method `get_dummies` will encode the different strings we have as values in the columns into 0 and 1, where also \"one-hot\" encoding is possible.\n",
    "\n",
    "\n",
    "example:"
   ]
  },
  {
   "cell_type": "code",
   "execution_count": 4,
   "metadata": {},
   "outputs": [
    {
     "data": {
      "text/html": [
       "<div>\n",
       "<style scoped>\n",
       "    .dataframe tbody tr th:only-of-type {\n",
       "        vertical-align: middle;\n",
       "    }\n",
       "\n",
       "    .dataframe tbody tr th {\n",
       "        vertical-align: top;\n",
       "    }\n",
       "\n",
       "    .dataframe thead th {\n",
       "        text-align: right;\n",
       "    }\n",
       "</style>\n",
       "<table border=\"1\" class=\"dataframe\">\n",
       "  <thead>\n",
       "    <tr style=\"text-align: right;\">\n",
       "      <th></th>\n",
       "      <th>a</th>\n",
       "      <th>b</th>\n",
       "      <th>c</th>\n",
       "    </tr>\n",
       "  </thead>\n",
       "  <tbody>\n",
       "    <tr>\n",
       "      <th>0</th>\n",
       "      <td>1.0</td>\n",
       "      <td>0.0</td>\n",
       "      <td>0.0</td>\n",
       "    </tr>\n",
       "    <tr>\n",
       "      <th>1</th>\n",
       "      <td>0.0</td>\n",
       "      <td>1.0</td>\n",
       "      <td>0.0</td>\n",
       "    </tr>\n",
       "    <tr>\n",
       "      <th>2</th>\n",
       "      <td>0.0</td>\n",
       "      <td>0.0</td>\n",
       "      <td>1.0</td>\n",
       "    </tr>\n",
       "  </tbody>\n",
       "</table>\n",
       "</div>"
      ],
      "text/plain": [
       "     a    b    c\n",
       "0  1.0  0.0  0.0\n",
       "1  0.0  1.0  0.0\n",
       "2  0.0  0.0  1.0"
      ]
     },
     "execution_count": 4,
     "metadata": {},
     "output_type": "execute_result"
    }
   ],
   "source": [
    "pd.get_dummies(pd.Series(list('abc')), dtype=float)"
   ]
  },
  {
   "cell_type": "code",
   "execution_count": 5,
   "metadata": {},
   "outputs": [
    {
     "data": {
      "text/html": [
       "<div>\n",
       "<style scoped>\n",
       "    .dataframe tbody tr th:only-of-type {\n",
       "        vertical-align: middle;\n",
       "    }\n",
       "\n",
       "    .dataframe tbody tr th {\n",
       "        vertical-align: top;\n",
       "    }\n",
       "\n",
       "    .dataframe thead th {\n",
       "        text-align: right;\n",
       "    }\n",
       "</style>\n",
       "<table border=\"1\" class=\"dataframe\">\n",
       "  <thead>\n",
       "    <tr style=\"text-align: right;\">\n",
       "      <th></th>\n",
       "      <th>b</th>\n",
       "      <th>c</th>\n",
       "    </tr>\n",
       "  </thead>\n",
       "  <tbody>\n",
       "    <tr>\n",
       "      <th>0</th>\n",
       "      <td>0.0</td>\n",
       "      <td>0.0</td>\n",
       "    </tr>\n",
       "    <tr>\n",
       "      <th>1</th>\n",
       "      <td>1.0</td>\n",
       "      <td>0.0</td>\n",
       "    </tr>\n",
       "    <tr>\n",
       "      <th>2</th>\n",
       "      <td>0.0</td>\n",
       "      <td>1.0</td>\n",
       "    </tr>\n",
       "  </tbody>\n",
       "</table>\n",
       "</div>"
      ],
      "text/plain": [
       "     b    c\n",
       "0  0.0  0.0\n",
       "1  1.0  0.0\n",
       "2  0.0  1.0"
      ]
     },
     "execution_count": 5,
     "metadata": {},
     "output_type": "execute_result"
    }
   ],
   "source": [
    "pd.get_dummies(pd.Series(list('abc')), dtype=float, drop_first=True)"
   ]
  },
  {
   "cell_type": "markdown",
   "metadata": {},
   "source": [
    "The flag `drop_first` gives whether to get $k-1$ dummies out of $k$ categorical levels by removing the first level.\n",
    "\n",
    "\n",
    "<font color='red'>Try this out</font>.\n"
   ]
  },
  {
   "cell_type": "markdown",
   "metadata": {},
   "source": [
    "So drop_first just takes out the column that's \"redundant\" if there's linearity, therefore simplyfing the process later on"
   ]
  },
  {
   "cell_type": "code",
   "execution_count": 7,
   "metadata": {},
   "outputs": [
    {
     "name": "stdout",
     "output_type": "stream",
     "text": [
      "Index(['ID', 'Income', 'Limit', 'Rating', 'Cards', 'Age', 'Education',\n",
      "       'Balance', 'Gender_Female', 'Student_Yes', 'Married_Yes',\n",
      "       'Ethnicity_Asian', 'Ethnicity_Caucasian'],\n",
      "      dtype='object')\n",
      "Index(['ID', 'Income', 'Limit', 'Rating', 'Cards', 'Age', 'Education',\n",
      "       'Gender', 'Student', 'Married', 'Ethnicity', 'Balance'],\n",
      "      dtype='object')\n"
     ]
    }
   ],
   "source": [
    "credit2 = pd.get_dummies(credit, columns = ['Gender', 'Student','Married','Ethnicity'],drop_first = True)\n",
    "print(credit2.columns)\n",
    "print(credit.columns)\n",
    "\n",
    "credit=credit2"
   ]
  },
  {
   "cell_type": "markdown",
   "metadata": {},
   "source": [
    "## 2. Best subset selection <a class=\"anchor\" id=\"second-bullet\"></a>\n",
    "\n",
    "\n",
    "To perform best selection, we fit separate models for each possible combination of the $n$ predictors and then select the best subset. This means, we fit:\n",
    "\n",
    "*    All models that contains exactly one predictor\n",
    "*    All models that contain 2 predictors at the second step: $\\binom{n}{2}$\n",
    "\n",
    "...\n",
    "Until reaching the end point where all $n$ predictors are included in the model.\n",
    "\n",
    "This results in $2^n$ possibilities as this is a power set problem. In our case there are $2^{11} = 2048$ possible combinations\n",
    "\n"
   ]
  },
  {
   "cell_type": "markdown",
   "metadata": {},
   "source": [
    "### Algorithm\n",
    "\n",
    "Let $\\mathscr{M}_0$ denote the null model which contains no predictors, this model simply predicts the sample mean of each observation\n",
    "\n",
    "For $k=1,...,n$:\n",
    "* Fit all $\\binom{n}{k}$ models that contain exactly $k$ predictors\n",
    "* Pick the best among these $\\binom{n}{k}$ models, and call it $\\mathscr{M}_k$ . Here the best is defined as having the smallest RSS, or an equivalent measure\n",
    "\n",
    "Select the single best model among $\\mathscr{M}_0, \\mathscr{M}_1, ..., \\mathscr{M}_k$ using cross validated predicton error, $C_p$, BIC, adjusted $R^2$ or any other method.\n"
   ]
  },
  {
   "cell_type": "markdown",
   "metadata": {},
   "source": [
    "### Helper function for fitting linear regression (Sklearn)\n"
   ]
  },
  {
   "cell_type": "code",
   "execution_count": 8,
   "metadata": {},
   "outputs": [],
   "source": [
    "def fit_linear_reg(X,Y):\n",
    "    #Fit linear regression model and return RSS and R squared values\n",
    "    model_k = linear_model.LinearRegression(fit_intercept = True)\n",
    "    model_k.fit(X,Y)\n",
    "    RSS = mean_squared_error(Y,model_k.predict(X)) * len(Y)\n",
    "    R_squared = model_k.score(X,Y)\n",
    "    return RSS, R_squared"
   ]
  },
  {
   "cell_type": "markdown",
   "metadata": {},
   "source": [
    "### Implementing Best subset selection (using `itertools.combinations`)\n",
    "\n",
    "The code below takes a while to run. This is why we display a progress bar."
   ]
  },
  {
   "cell_type": "code",
   "execution_count": 9,
   "metadata": {},
   "outputs": [
    {
     "data": {
      "text/plain": [
       "array([1. , 1.5, 2. , 2.5, 3. , 3.5, 4. , 4.5])"
      ]
     },
     "execution_count": 9,
     "metadata": {},
     "output_type": "execute_result"
    }
   ],
   "source": [
    "np.arange(1, 5, 0.5)"
   ]
  },
  {
   "cell_type": "code",
   "execution_count": 10,
   "metadata": {},
   "outputs": [
    {
     "data": {
      "application/vnd.jupyter.widget-view+json": {
       "model_id": "ffd06a12b2eb4a349f51cfe5200c7a85",
       "version_major": 2,
       "version_minor": 0
      },
      "text/plain": [
       "Loop...:   0%|          | 0/12 [00:00<?, ?it/s]"
      ]
     },
     "metadata": {},
     "output_type": "display_data"
    }
   ],
   "source": [
    "#Importing tqdm for the progress bar\n",
    "from tqdm import tnrange, tqdm_notebook\n",
    "import warnings\n",
    "warnings.filterwarnings(\"ignore\", category=DeprecationWarning)\n",
    "\n",
    "#Initialization variables\n",
    "Y = credit.Balance\n",
    "X = credit.drop(columns = 'Balance', axis = 1)\n",
    "k = 11\n",
    "RSS_list, R_squared_list, feature_list = [],[],[]\n",
    "numb_features = []\n",
    "\n",
    "#Looping over k = 1 to k = 11 features in X\n",
    "for k in tnrange(1,len(X.columns) + 1, desc = 'Loop...'):\n",
    "\n",
    "    #Looping over all possible combinations: from 11 choose k\n",
    "    for combo in itertools.combinations(X.columns,k):\n",
    "        tmp_result = fit_linear_reg(X[list(combo)],Y)   #Store temp result \n",
    "        RSS_list.append(tmp_result[0])                  #Append lists\n",
    "        R_squared_list.append(tmp_result[1])\n",
    "        feature_list.append(combo)\n",
    "        numb_features.append(len(combo))   \n",
    "\n",
    "#Store in DataFrame\n",
    "df = pd.DataFrame({'numb_features': numb_features,'RSS': RSS_list, 'R_squared':R_squared_list,'features':feature_list})"
   ]
  },
  {
   "cell_type": "markdown",
   "metadata": {},
   "source": [
    "### Finding the best subsets for each number of features\n",
    "\n",
    "We do so by using the smallest RSS value, or the largest $R^2$ value\n"
   ]
  },
  {
   "cell_type": "code",
   "execution_count": 11,
   "metadata": {},
   "outputs": [
    {
     "data": {
      "text/html": [
       "<div>\n",
       "<style scoped>\n",
       "    .dataframe tbody tr th:only-of-type {\n",
       "        vertical-align: middle;\n",
       "    }\n",
       "\n",
       "    .dataframe tbody tr th {\n",
       "        vertical-align: top;\n",
       "    }\n",
       "\n",
       "    .dataframe thead th {\n",
       "        text-align: right;\n",
       "    }\n",
       "</style>\n",
       "<table border=\"1\" class=\"dataframe\">\n",
       "  <thead>\n",
       "    <tr style=\"text-align: right;\">\n",
       "      <th></th>\n",
       "      <th>numb_features</th>\n",
       "      <th>RSS</th>\n",
       "      <th>R_squared</th>\n",
       "      <th>features</th>\n",
       "    </tr>\n",
       "  </thead>\n",
       "  <tbody>\n",
       "    <tr>\n",
       "      <th>3</th>\n",
       "      <td>1</td>\n",
       "      <td>2.143512e+07</td>\n",
       "      <td>0.745848</td>\n",
       "      <td>(Rating,)</td>\n",
       "    </tr>\n",
       "    <tr>\n",
       "      <th>24</th>\n",
       "      <td>2</td>\n",
       "      <td>1.053254e+07</td>\n",
       "      <td>0.875118</td>\n",
       "      <td>(Income, Rating)</td>\n",
       "    </tr>\n",
       "    <tr>\n",
       "      <th>146</th>\n",
       "      <td>3</td>\n",
       "      <td>4.227219e+06</td>\n",
       "      <td>0.949879</td>\n",
       "      <td>(Income, Rating, Student_Yes)</td>\n",
       "    </tr>\n",
       "    <tr>\n",
       "      <th>474</th>\n",
       "      <td>4</td>\n",
       "      <td>3.915058e+06</td>\n",
       "      <td>0.953580</td>\n",
       "      <td>(Income, Limit, Cards, Student_Yes)</td>\n",
       "    </tr>\n",
       "    <tr>\n",
       "      <th>1126</th>\n",
       "      <td>5</td>\n",
       "      <td>3.866091e+06</td>\n",
       "      <td>0.954161</td>\n",
       "      <td>(Income, Limit, Rating, Cards, Student_Yes)</td>\n",
       "    </tr>\n",
       "    <tr>\n",
       "      <th>2049</th>\n",
       "      <td>6</td>\n",
       "      <td>3.821620e+06</td>\n",
       "      <td>0.954688</td>\n",
       "      <td>(Income, Limit, Rating, Cards, Age, Student_Yes)</td>\n",
       "    </tr>\n",
       "    <tr>\n",
       "      <th>2976</th>\n",
       "      <td>7</td>\n",
       "      <td>3.810759e+06</td>\n",
       "      <td>0.954817</td>\n",
       "      <td>(Income, Limit, Rating, Cards, Age, Gender_Fem...</td>\n",
       "    </tr>\n",
       "    <tr>\n",
       "      <th>3306</th>\n",
       "      <td>8</td>\n",
       "      <td>3.802227e+06</td>\n",
       "      <td>0.954918</td>\n",
       "      <td>(ID, Income, Limit, Rating, Cards, Age, Gender...</td>\n",
       "    </tr>\n",
       "    <tr>\n",
       "      <th>3807</th>\n",
       "      <td>9</td>\n",
       "      <td>3.795415e+06</td>\n",
       "      <td>0.954999</td>\n",
       "      <td>(ID, Income, Limit, Rating, Cards, Age, Gender...</td>\n",
       "    </tr>\n",
       "    <tr>\n",
       "      <th>4026</th>\n",
       "      <td>10</td>\n",
       "      <td>3.788550e+06</td>\n",
       "      <td>0.955080</td>\n",
       "      <td>(ID, Income, Limit, Rating, Cards, Age, Gender...</td>\n",
       "    </tr>\n",
       "    <tr>\n",
       "      <th>4087</th>\n",
       "      <td>11</td>\n",
       "      <td>3.782619e+06</td>\n",
       "      <td>0.955150</td>\n",
       "      <td>(ID, Income, Limit, Rating, Cards, Age, Gender...</td>\n",
       "    </tr>\n",
       "    <tr>\n",
       "      <th>4094</th>\n",
       "      <td>12</td>\n",
       "      <td>3.778009e+06</td>\n",
       "      <td>0.955205</td>\n",
       "      <td>(ID, Income, Limit, Rating, Cards, Age, Educat...</td>\n",
       "    </tr>\n",
       "  </tbody>\n",
       "</table>\n",
       "</div>"
      ],
      "text/plain": [
       "      numb_features           RSS  R_squared  \\\n",
       "3                 1  2.143512e+07   0.745848   \n",
       "24                2  1.053254e+07   0.875118   \n",
       "146               3  4.227219e+06   0.949879   \n",
       "474               4  3.915058e+06   0.953580   \n",
       "1126              5  3.866091e+06   0.954161   \n",
       "2049              6  3.821620e+06   0.954688   \n",
       "2976              7  3.810759e+06   0.954817   \n",
       "3306              8  3.802227e+06   0.954918   \n",
       "3807              9  3.795415e+06   0.954999   \n",
       "4026             10  3.788550e+06   0.955080   \n",
       "4087             11  3.782619e+06   0.955150   \n",
       "4094             12  3.778009e+06   0.955205   \n",
       "\n",
       "                                               features  \n",
       "3                                             (Rating,)  \n",
       "24                                     (Income, Rating)  \n",
       "146                       (Income, Rating, Student_Yes)  \n",
       "474                 (Income, Limit, Cards, Student_Yes)  \n",
       "1126        (Income, Limit, Rating, Cards, Student_Yes)  \n",
       "2049   (Income, Limit, Rating, Cards, Age, Student_Yes)  \n",
       "2976  (Income, Limit, Rating, Cards, Age, Gender_Fem...  \n",
       "3306  (ID, Income, Limit, Rating, Cards, Age, Gender...  \n",
       "3807  (ID, Income, Limit, Rating, Cards, Age, Gender...  \n",
       "4026  (ID, Income, Limit, Rating, Cards, Age, Gender...  \n",
       "4087  (ID, Income, Limit, Rating, Cards, Age, Gender...  \n",
       "4094  (ID, Income, Limit, Rating, Cards, Age, Educat...  "
      ]
     },
     "metadata": {},
     "output_type": "display_data"
    },
    {
     "data": {
      "text/html": [
       "<div>\n",
       "<style scoped>\n",
       "    .dataframe tbody tr th:only-of-type {\n",
       "        vertical-align: middle;\n",
       "    }\n",
       "\n",
       "    .dataframe tbody tr th {\n",
       "        vertical-align: top;\n",
       "    }\n",
       "\n",
       "    .dataframe thead th {\n",
       "        text-align: right;\n",
       "    }\n",
       "</style>\n",
       "<table border=\"1\" class=\"dataframe\">\n",
       "  <thead>\n",
       "    <tr style=\"text-align: right;\">\n",
       "      <th></th>\n",
       "      <th>numb_features</th>\n",
       "      <th>RSS</th>\n",
       "      <th>R_squared</th>\n",
       "      <th>features</th>\n",
       "    </tr>\n",
       "  </thead>\n",
       "  <tbody>\n",
       "    <tr>\n",
       "      <th>3</th>\n",
       "      <td>1</td>\n",
       "      <td>2.143512e+07</td>\n",
       "      <td>0.745848</td>\n",
       "      <td>(Rating,)</td>\n",
       "    </tr>\n",
       "    <tr>\n",
       "      <th>24</th>\n",
       "      <td>2</td>\n",
       "      <td>1.053254e+07</td>\n",
       "      <td>0.875118</td>\n",
       "      <td>(Income, Rating)</td>\n",
       "    </tr>\n",
       "    <tr>\n",
       "      <th>146</th>\n",
       "      <td>3</td>\n",
       "      <td>4.227219e+06</td>\n",
       "      <td>0.949879</td>\n",
       "      <td>(Income, Rating, Student_Yes)</td>\n",
       "    </tr>\n",
       "    <tr>\n",
       "      <th>474</th>\n",
       "      <td>4</td>\n",
       "      <td>3.915058e+06</td>\n",
       "      <td>0.953580</td>\n",
       "      <td>(Income, Limit, Cards, Student_Yes)</td>\n",
       "    </tr>\n",
       "    <tr>\n",
       "      <th>1126</th>\n",
       "      <td>5</td>\n",
       "      <td>3.866091e+06</td>\n",
       "      <td>0.954161</td>\n",
       "      <td>(Income, Limit, Rating, Cards, Student_Yes)</td>\n",
       "    </tr>\n",
       "    <tr>\n",
       "      <th>2049</th>\n",
       "      <td>6</td>\n",
       "      <td>3.821620e+06</td>\n",
       "      <td>0.954688</td>\n",
       "      <td>(Income, Limit, Rating, Cards, Age, Student_Yes)</td>\n",
       "    </tr>\n",
       "    <tr>\n",
       "      <th>2976</th>\n",
       "      <td>7</td>\n",
       "      <td>3.810759e+06</td>\n",
       "      <td>0.954817</td>\n",
       "      <td>(Income, Limit, Rating, Cards, Age, Gender_Fem...</td>\n",
       "    </tr>\n",
       "    <tr>\n",
       "      <th>3306</th>\n",
       "      <td>8</td>\n",
       "      <td>3.802227e+06</td>\n",
       "      <td>0.954918</td>\n",
       "      <td>(ID, Income, Limit, Rating, Cards, Age, Gender...</td>\n",
       "    </tr>\n",
       "    <tr>\n",
       "      <th>3807</th>\n",
       "      <td>9</td>\n",
       "      <td>3.795415e+06</td>\n",
       "      <td>0.954999</td>\n",
       "      <td>(ID, Income, Limit, Rating, Cards, Age, Gender...</td>\n",
       "    </tr>\n",
       "    <tr>\n",
       "      <th>4026</th>\n",
       "      <td>10</td>\n",
       "      <td>3.788550e+06</td>\n",
       "      <td>0.955080</td>\n",
       "      <td>(ID, Income, Limit, Rating, Cards, Age, Gender...</td>\n",
       "    </tr>\n",
       "    <tr>\n",
       "      <th>4087</th>\n",
       "      <td>11</td>\n",
       "      <td>3.782619e+06</td>\n",
       "      <td>0.955150</td>\n",
       "      <td>(ID, Income, Limit, Rating, Cards, Age, Gender...</td>\n",
       "    </tr>\n",
       "    <tr>\n",
       "      <th>4094</th>\n",
       "      <td>12</td>\n",
       "      <td>3.778009e+06</td>\n",
       "      <td>0.955205</td>\n",
       "      <td>(ID, Income, Limit, Rating, Cards, Age, Educat...</td>\n",
       "    </tr>\n",
       "  </tbody>\n",
       "</table>\n",
       "</div>"
      ],
      "text/plain": [
       "      numb_features           RSS  R_squared  \\\n",
       "3                 1  2.143512e+07   0.745848   \n",
       "24                2  1.053254e+07   0.875118   \n",
       "146               3  4.227219e+06   0.949879   \n",
       "474               4  3.915058e+06   0.953580   \n",
       "1126              5  3.866091e+06   0.954161   \n",
       "2049              6  3.821620e+06   0.954688   \n",
       "2976              7  3.810759e+06   0.954817   \n",
       "3306              8  3.802227e+06   0.954918   \n",
       "3807              9  3.795415e+06   0.954999   \n",
       "4026             10  3.788550e+06   0.955080   \n",
       "4087             11  3.782619e+06   0.955150   \n",
       "4094             12  3.778009e+06   0.955205   \n",
       "\n",
       "                                               features  \n",
       "3                                             (Rating,)  \n",
       "24                                     (Income, Rating)  \n",
       "146                       (Income, Rating, Student_Yes)  \n",
       "474                 (Income, Limit, Cards, Student_Yes)  \n",
       "1126        (Income, Limit, Rating, Cards, Student_Yes)  \n",
       "2049   (Income, Limit, Rating, Cards, Age, Student_Yes)  \n",
       "2976  (Income, Limit, Rating, Cards, Age, Gender_Fem...  \n",
       "3306  (ID, Income, Limit, Rating, Cards, Age, Gender...  \n",
       "3807  (ID, Income, Limit, Rating, Cards, Age, Gender...  \n",
       "4026  (ID, Income, Limit, Rating, Cards, Age, Gender...  \n",
       "4087  (ID, Income, Limit, Rating, Cards, Age, Gender...  \n",
       "4094  (ID, Income, Limit, Rating, Cards, Age, Educat...  "
      ]
     },
     "metadata": {},
     "output_type": "display_data"
    }
   ],
   "source": [
    "df_min = df[df.groupby('numb_features')['RSS'].transform(\"min\") == df['RSS']]\n",
    "df_max = df[df.groupby('numb_features')['R_squared'].transform(\"max\") == df['R_squared']]\n",
    "\n",
    "\n",
    "#display(df)\n",
    "display(df_min)\n",
    "display(df_max)\n",
    "\n"
   ]
  },
  {
   "cell_type": "markdown",
   "metadata": {},
   "source": [
    "### Adding columns to the dataframe with RSS and R squared values of the best subset\n"
   ]
  },
  {
   "cell_type": "code",
   "execution_count": 12,
   "metadata": {},
   "outputs": [
    {
     "data": {
      "text/html": [
       "<div>\n",
       "<style scoped>\n",
       "    .dataframe tbody tr th:only-of-type {\n",
       "        vertical-align: middle;\n",
       "    }\n",
       "\n",
       "    .dataframe tbody tr th {\n",
       "        vertical-align: top;\n",
       "    }\n",
       "\n",
       "    .dataframe thead th {\n",
       "        text-align: right;\n",
       "    }\n",
       "</style>\n",
       "<table border=\"1\" class=\"dataframe\">\n",
       "  <thead>\n",
       "    <tr style=\"text-align: right;\">\n",
       "      <th></th>\n",
       "      <th>numb_features</th>\n",
       "      <th>RSS</th>\n",
       "      <th>R_squared</th>\n",
       "      <th>features</th>\n",
       "      <th>min_RSS</th>\n",
       "      <th>max_R_squared</th>\n",
       "    </tr>\n",
       "  </thead>\n",
       "  <tbody>\n",
       "    <tr>\n",
       "      <th>0</th>\n",
       "      <td>1</td>\n",
       "      <td>8.433681e+07</td>\n",
       "      <td>0.000037</td>\n",
       "      <td>(ID,)</td>\n",
       "      <td>2.143512e+07</td>\n",
       "      <td>0.745848</td>\n",
       "    </tr>\n",
       "    <tr>\n",
       "      <th>1</th>\n",
       "      <td>1</td>\n",
       "      <td>6.620874e+07</td>\n",
       "      <td>0.214977</td>\n",
       "      <td>(Income,)</td>\n",
       "      <td>2.143512e+07</td>\n",
       "      <td>0.745848</td>\n",
       "    </tr>\n",
       "    <tr>\n",
       "      <th>2</th>\n",
       "      <td>1</td>\n",
       "      <td>2.171566e+07</td>\n",
       "      <td>0.742522</td>\n",
       "      <td>(Limit,)</td>\n",
       "      <td>2.143512e+07</td>\n",
       "      <td>0.745848</td>\n",
       "    </tr>\n",
       "    <tr>\n",
       "      <th>3</th>\n",
       "      <td>1</td>\n",
       "      <td>2.143512e+07</td>\n",
       "      <td>0.745848</td>\n",
       "      <td>(Rating,)</td>\n",
       "      <td>2.143512e+07</td>\n",
       "      <td>0.745848</td>\n",
       "    </tr>\n",
       "    <tr>\n",
       "      <th>4</th>\n",
       "      <td>1</td>\n",
       "      <td>8.370950e+07</td>\n",
       "      <td>0.007475</td>\n",
       "      <td>(Cards,)</td>\n",
       "      <td>2.143512e+07</td>\n",
       "      <td>0.745848</td>\n",
       "    </tr>\n",
       "  </tbody>\n",
       "</table>\n",
       "</div>"
      ],
      "text/plain": [
       "   numb_features           RSS  R_squared   features       min_RSS  \\\n",
       "0              1  8.433681e+07   0.000037      (ID,)  2.143512e+07   \n",
       "1              1  6.620874e+07   0.214977  (Income,)  2.143512e+07   \n",
       "2              1  2.171566e+07   0.742522   (Limit,)  2.143512e+07   \n",
       "3              1  2.143512e+07   0.745848  (Rating,)  2.143512e+07   \n",
       "4              1  8.370950e+07   0.007475   (Cards,)  2.143512e+07   \n",
       "\n",
       "   max_R_squared  \n",
       "0       0.745848  \n",
       "1       0.745848  \n",
       "2       0.745848  \n",
       "3       0.745848  \n",
       "4       0.745848  "
      ]
     },
     "execution_count": 12,
     "metadata": {},
     "output_type": "execute_result"
    }
   ],
   "source": [
    "df['min_RSS'] = df.groupby('numb_features')['RSS'].transform(\"min\")\n",
    "df['max_R_squared'] = df.groupby('numb_features')['R_squared'].transform(\"max\")\n",
    "df.head()"
   ]
  },
  {
   "cell_type": "markdown",
   "metadata": {},
   "source": [
    "### Plotting the best subset selection process\n"
   ]
  },
  {
   "cell_type": "code",
   "execution_count": 13,
   "metadata": {},
   "outputs": [
    {
     "data": {
      "image/png": "[encoded data removed]",
      "text/plain": [
       "<Figure size 1600x600 with 2 Axes>"
      ]
     },
     "metadata": {},
     "output_type": "display_data"
    }
   ],
   "source": [
    "fig = plt.figure(figsize = (16,6))\n",
    "ax = fig.add_subplot(1, 2, 1)\n",
    "\n",
    "ax.scatter(df.numb_features,df.RSS, alpha = .1, color = 'darkblue' )\n",
    "ax.set_xlabel('# Features')\n",
    "ax.set_ylabel('RSS')\n",
    "ax.set_title('RSS - Best subset selection')\n",
    "ax.plot(df.numb_features,df.min_RSS,color = 'r', label = 'Best subset')\n",
    "ax.legend()\n",
    "\n",
    "ax = fig.add_subplot(1, 2, 2)\n",
    "ax.scatter(df.numb_features,df.R_squared, alpha = .1, color = 'darkblue' )\n",
    "ax.plot(df.numb_features,df.max_R_squared,color = 'r', label = 'Best subset')\n",
    "ax.set_xlabel('# Features')\n",
    "ax.set_ylabel('R squared')\n",
    "ax.set_title('R_squared - Best subset selection')\n",
    "ax.legend()\n",
    "\n",
    "plt.show()"
   ]
  },
  {
   "cell_type": "markdown",
   "metadata": {},
   "source": [
    "\n",
    "## 3. Forward subset selection <a class=\"anchor\" id=\"third-bullet\"></a>\n",
    "\n",
    "\n",
    "For computational reasons, the best subset cannot be applied for any large $n$\n",
    "due to the $2^n$ complexity. Forward Stepwise subset selection begins with a model containing no predictors, and then adds predictors to the model, one at the time. At each step, the variable that gives the greatest additional improvement to the fit is added to the model.\n"
   ]
  },
  {
   "cell_type": "markdown",
   "metadata": {},
   "source": [
    "### Algorithm\n",
    "\n",
    "Let $\\mathscr{M}_0$ denote the null model which contains no predictors.\n",
    "\n",
    "For $k=1,...,n-1$:\n",
    "\n",
    "\n",
    "* Consider all $n−k$ models that augment the predictors in $\\mathscr{M}_k$ with one additional predictor\n",
    "* Choose the best among these $n-k$ models, and call it $\\mathscr{M}_{k+1}$ .\n",
    "\n",
    "\n",
    "Select the single best model among $\\mathscr{M}_0, \\mathscr{M}_1, ..., \\mathscr{M}_n$ using cross validated predicton error, $C_p$, BIC, adjusted $R^2$ or any other method.\n"
   ]
  },
  {
   "cell_type": "code",
   "execution_count": 14,
   "metadata": {},
   "outputs": [],
   "source": [
    "#Initialization variables\n",
    "Y = credit.Balance\n",
    "X = credit.drop(columns = 'Balance', axis = 1)\n",
    "k = 11\n",
    "\n",
    "remaining_features = list(X.columns.values)\n",
    "features = []\n",
    "RSS_list, R_squared_list = [np.inf], [np.inf] #Due to 1 indexing of the loop...\n",
    "features_list = dict()\n",
    "\n",
    "for i in range(1,k+1):\n",
    "    best_RSS = np.inf\n",
    "    \n",
    "    for combo in itertools.combinations(remaining_features,1):\n",
    "\n",
    "            RSS = fit_linear_reg(X[list(combo) + features],Y)   #Store temp result \n",
    "\n",
    "            if RSS[0] < best_RSS:\n",
    "                best_RSS = RSS[0]\n",
    "                best_R_squared = RSS[1] \n",
    "                best_feature = combo[0]\n",
    "\n",
    "    #Updating variables for next loop\n",
    "    features.append(best_feature)\n",
    "    remaining_features.remove(best_feature)\n",
    "    \n",
    "    #Saving values for plotting\n",
    "    RSS_list.append(best_RSS)\n",
    "    R_squared_list.append(best_R_squared)\n",
    "    features_list[i] = features.copy()"
   ]
  },
  {
   "cell_type": "markdown",
   "metadata": {},
   "source": [
    "### Displaying results of the first 4 steps\n"
   ]
  },
  {
   "cell_type": "code",
   "execution_count": 15,
   "metadata": {},
   "outputs": [
    {
     "name": "stdout",
     "output_type": "stream",
     "text": [
      "Forward stepwise subset selection\n",
      "Number of features | Features | RSS\n"
     ]
    },
    {
     "data": {
      "text/plain": [
       "[(1, ['Rating'], 21435122),\n",
       " (2, ['Rating', 'Income'], 10532541),\n",
       " (3, ['Rating', 'Income', 'Student_Yes'], 4227219),\n",
       " (4, ['Rating', 'Income', 'Student_Yes', 'Limit'], 4032502),\n",
       " (5, ['Rating', 'Income', 'Student_Yes', 'Limit', 'Cards'], 3866091),\n",
       " (6, ['Rating', 'Income', 'Student_Yes', 'Limit', 'Cards', 'Age'], 3821620)]"
      ]
     },
     "metadata": {},
     "output_type": "display_data"
    }
   ],
   "source": [
    "print('Forward stepwise subset selection')\n",
    "print('Number of features |', 'Features |', 'RSS')\n",
    "display([(i,features_list[i], round(RSS_list[i])) for i in range(1,7)])"
   ]
  },
  {
   "cell_type": "markdown",
   "metadata": {},
   "source": [
    "## 4. The ridge and lasso method  <a class=\"anchor\" id=\"fourth\"></a>\n",
    "\n",
    "Within `sklearn`, there is also the ridge regression implemented (function `Ridge()`) as well as the lasso regression (function `Lasso()`) function. \n",
    "\n",
    "Multiple examples illustrating the usage can be found in the `sklearn` documentation:\n",
    "https://scikit-learn.org/stable/modules/generated/sklearn.linear_model.Ridge.html"
   ]
  },
  {
   "cell_type": "markdown",
   "metadata": {},
   "source": [
    "We have seen that the ridge regression is basically minimizing a penalised version of the least-squared function:\n",
    "\n",
    "\n",
    "\n",
    "Ridge regression is similar to least squares, except that the coefficients are estimated by minimizing a slightly different quantity. In particular, the ridge regression coefficient estimates $\\hat{\\beta}^R$ are the values that minimize\n",
    "\n",
    "\\begin{equation*}\n",
    "\\sum\\limits^n_{i=1} \\left( y_i-\\beta_0 - \\sum\\limits^p_{j=1}\\beta_j x_{ij}      \\right)^2 + \\lambda \\sum\\limits^p_{j=1}\\beta_j^2 = RSS + \\lambda \\sum\\limits^p_{j=1}\\beta_j^2\n",
    "\\end{equation*}\n",
    "\n",
    "\n",
    "The penalising shrinks the value of the regression coefficients. Despite the few data points in each dimension, the slope of the prediction is much more stable and the variance in the line itself is greatly reduced, in comparison to that of the standard linear regression"
   ]
  },
  {
   "cell_type": "markdown",
   "metadata": {},
   "source": [
    "In the following example, we compare the outcome of the fit with least squares and ridge regression to the same dataset."
   ]
  },
  {
   "cell_type": "code",
   "execution_count": 16,
   "metadata": {},
   "outputs": [
    {
     "name": "stdout",
     "output_type": "stream",
     "text": [
      "[[0.5]\n",
      " [1. ]]\n"
     ]
    }
   ],
   "source": [
    "import matplotlib.pyplot as plt\n",
    "import numpy as np\n",
    "\n",
    "from sklearn import linear_model\n",
    "\n",
    "X_train = np.c_[0.5, 1].T\n",
    "y_train = [0.5, 1]\n",
    "X_test = np.c_[0, 2].T\n",
    "\n",
    "print(X_train)"
   ]
  },
  {
   "cell_type": "code",
   "execution_count": 17,
   "metadata": {},
   "outputs": [
    {
     "name": "stdout",
     "output_type": "stream",
     "text": [
      "[0.5, 1]\n",
      "[[0]\n",
      " [2]]\n"
     ]
    },
    {
     "data": {
      "image/png": "[encoded data removed]",
      "text/plain": [
       "<Figure size 400x300 with 1 Axes>"
      ]
     },
     "metadata": {},
     "output_type": "display_data"
    },
    {
     "data": {
      "image/png": "[encoded data removed]",
      "text/plain": [
       "<Figure size 400x300 with 1 Axes>"
      ]
     },
     "metadata": {},
     "output_type": "display_data"
    }
   ],
   "source": [
    "print(y_train)\n",
    "print (X_test)\n",
    "\n",
    "np.random.seed(0)\n",
    "\n",
    "# note that the tuning parameter we called lambda is here named alpha\n",
    "classifiers = dict(\n",
    "    leastsquares=linear_model.LinearRegression(), ridge=linear_model.Ridge(alpha=0.1)\n",
    ")\n",
    "\n",
    "for name, clf in classifiers.items():\n",
    "    fig, ax = plt.subplots(figsize=(4, 3))\n",
    "\n",
    "    for _ in range(6):\n",
    "        this_X = 0.1 * np.random.normal(size=(2, 1)) + X_train\n",
    "        clf.fit(this_X, y_train)\n",
    "\n",
    "        ax.plot(X_test, clf.predict(X_test), color=\"gray\")\n",
    "        ax.scatter(this_X, y_train, s=3, c=\"gray\", marker=\"o\", zorder=10)\n",
    "\n",
    "    clf.fit(X_train, y_train)\n",
    "    ax.plot(X_test, clf.predict(X_test), linewidth=2, color=\"blue\")\n",
    "    ax.scatter(X_train, y_train, s=30, c=\"red\", marker=\"+\", zorder=10)\n",
    "\n",
    "    ax.set_title(name)\n",
    "    ax.set_xlim(0, 2)\n",
    "    ax.set_ylim((0, 1.6))\n",
    "    ax.set_xlabel(\"X\")\n",
    "    ax.set_ylabel(\"y\")\n",
    "\n",
    "    fig.tight_layout()\n",
    "\n",
    "plt.show()\n",
    "    "
   ]
  },
  {
   "cell_type": "code",
   "execution_count": 18,
   "metadata": {},
   "outputs": [
    {
     "data": {
      "image/png": "[encoded data removed]",
      "text/plain": [
       "<Figure size 640x480 with 1 Axes>"
      ]
     },
     "metadata": {},
     "output_type": "display_data"
    }
   ],
   "source": [
    "import matplotlib.pyplot as plt\n",
    "import numpy as np\n",
    "\n",
    "from sklearn.datasets import make_regression\n",
    "from sklearn.linear_model import Ridge, LinearRegression\n",
    "\n",
    "\n",
    "# Generate toy data.\n",
    "rng = np.random.RandomState(0)\n",
    "X, y = make_regression(\n",
    "    n_samples=15, n_features=1, random_state=0, noise=2.0, bias=100.0\n",
    ")\n",
    "\n",
    "# Add some strong outliers to the dataset.\n",
    "X_outliers = rng.normal(0, 0.5, size=(4, 1))\n",
    "y_outliers = rng.normal(0, 2.0, size=4)\n",
    "#X_outliers[:2, :] += X.max() + X.mean() / 4.0\n",
    "#X_outliers[2:, :] += X.min() - X.mean() / 4.0\n",
    "y_outliers[:2] += y.min() - y.mean() / 4.0\n",
    "y_outliers[2:] += y.max() + y.mean() / 4.0\n",
    "X = np.vstack((X, X_outliers))\n",
    "y = np.concatenate((y, y_outliers))\n",
    "plt.plot(X, y, \"b.\")\n",
    "\n",
    "# Fit the huber regressor over a series of epsilon values.\n",
    "colors = [\"r-\", \"b-\", \"y-\", \"m-\"]\n",
    "\n",
    "# Fit a least squares regressor to compare it to huber regressor.\n",
    "leastsquares = LinearRegression()\n",
    "leastsquares.fit(X, y)\n",
    "coef_leastsquares = leastsquares.coef_\n",
    "coef_ = leastsquares.coef_ * X + leastsquares.intercept_\n",
    "plt.plot(X, coef_, color=\"black\", label=\"least squares regression\")\n",
    "\n",
    "\n",
    "# Fit a ridge regressor to compare it to huber regressor.\n",
    "ridge = Ridge(alpha=0.0, random_state=0) #the parameter that we called lambda is here called alpha\n",
    "ridge.fit(X, y)\n",
    "coef_ridge = ridge.coef_\n",
    "coef_ = ridge.coef_ * X + ridge.intercept_\n",
    "plt.plot(X, coef_, color=\"orange\", linestyle='dashed',label=\"ridge regression\")\n",
    "\n",
    "plt.title(\"Comparison of Least Squares vs. Ridge\")\n",
    "plt.xlabel(\"X\")\n",
    "plt.ylabel(\"y\")\n",
    "plt.legend(loc=0)\n",
    "plt.show()"
   ]
  },
  {
   "cell_type": "markdown",
   "metadata": {},
   "source": []
  },
  {
   "cell_type": "markdown",
   "metadata": {},
   "source": [
    "\n",
    "## 5. Comparing models: AIC, BIC, $C_p$  <a class=\"anchor\" id=\"fifth\"></a>\n",
    "\n",
    "\n",
    "The training set Mean Squared Error (MSE) is generally an underestimate of the test MSE. This is because when we fit a model to the training data using least squares, we specifically estimate the regression coefficients such that the training RSS is minimized. In particular, the training RSS decreases as we add more features to the model, but the test error may not. Therefore the training RSS and $R^2$ may not be used for selecting the best model unless we adjust for this underestimation."
   ]
  },
  {
   "cell_type": "markdown",
   "metadata": {},
   "source": [
    "### $C_p$\n",
    "\n",
    "\n",
    "\n",
    "For a fitted least squares model containing $d$ predictors, the $C_p$ estimate \n",
    "of test MSE is computed using the equation\n",
    "\n",
    "\\begin{equation*}\n",
    "C_p = \\frac{1}{n}(\\mathrm{RSS}+2d\\hat{\\sigma}^2)\n",
    "\\end{equation*}\n",
    "\n",
    "where $\\hat{\\sigma}^2$ is an estimate of the variance of the error $\\epsilon$ associated with each response measurement. Typically $\\hat{\\sigma}^2$ is estimated using the full model containing all predictors.\n",
    "\n",
    "\n",
    "Typically $\\hat{\\sigma}^2$ is estimated using the full model containing all predictors.\n",
    "\n",
    "Essentially,the $C_p$ statistic adds a penalty of $2d\\hat{\\sigma}^2$ to the training RSS in order to adjust for the fact that the training error tends to underestimate the test error. Clearly, the penalty increases as the number of predictors in the model increases, and this is intended to adjust for the corresponding decrease in training RSS. It can be shown that if $\\hat{\\sigma}^2$ is an unbiased estimate of $\\sigma^2$ then $C_p$ is an unbiased estimate of the test MSE, so we choose the model with the smallest $C_p$.\n",
    "\n",
    "### Akaike's Information Criteria (AIC)\n",
    "\n",
    "The AIC criterion is defiend for a large class of models fit by maximum likelihood. In the case of a linear model with Gaussian errors, MLE and least squares are the same thing and the AIC is given by\n",
    "\n",
    "\\begin{equation*}\n",
    "AIC = \\frac{1}{n\\hat{\\sigma}^2}(\\mathrm{RSS}+2d\\hat{\\sigma}^2)\n",
    "\\end{equation*}\n",
    "\n",
    "### Bayesian Information Criteria (BIC)\n",
    "\n",
    "BIC is derived from a Bayesian point of view, and looks similar to the $C_p$ and AIC - it is defined (up to irrelevant constants) as:\n",
    "\n",
    "\n",
    "\\begin{equation*}\n",
    "BIC = \\frac{1}{n\\hat{\\sigma}^2}(\\mathrm{RSS}+\\log(m)d\\hat{\\sigma}^2)\n",
    "\\end{equation*}\n",
    "\n",
    "### Adjusted $R^2$\n",
    "Since the $R^2$ always increases as more variables are added, the adjusted $R^2$ accounts for that fact and introduces a penalty. The intuition is that once all the correct variables have been included in the model, additional noise variables will lead to a very small decrase in RSS, but an increase in $k$ and hence will decrease the adjusted $R^2$. In effect, we pay a price for the inclusion of unnecessary variables in the model.\n",
    "\n",
    "\n",
    "\n",
    "\\begin{equation*}\n",
    "R_a^2 = 1 - \\frac{RSS/(n-k-1)}{TSS/(n-1)} = 1 - (1-R^2)\\frac{n-k}{n-k-1}\n",
    "\\end{equation*}\n",
    "\n",
    "### Estimation of $\\hat{\\sigma}^2$\n",
    "\n",
    "Using the RSS of the full model with $p$ features, (i.e.the smallest RSS) we estimate \n",
    "$\\hat{\\sigma}^2$ as:\n",
    "\\begin{equation*}\n",
    "\\hat{\\sigma}^2 = \\frac{RSS}{n-p-1}\n",
    "\\end{equation*}"
   ]
  },
  {
   "cell_type": "markdown",
   "metadata": {},
   "source": [
    "### Combining forward stepwise results into a new DataFrame\n"
   ]
  },
  {
   "cell_type": "code",
   "execution_count": 19,
   "metadata": {},
   "outputs": [],
   "source": [
    "df1 = pd.concat([pd.DataFrame({'features':features_list}),pd.DataFrame({'RSS':RSS_list, 'R_squared': R_squared_list})], axis=1, join='inner')\n",
    "df1['numb_features'] = df1.index"
   ]
  },
  {
   "cell_type": "code",
   "execution_count": 20,
   "metadata": {},
   "outputs": [
    {
     "name": "stdout",
     "output_type": "stream",
     "text": [
      "                                             features           RSS  \\\n",
      "1                                            [Rating]  2.143512e+07   \n",
      "2                                    [Rating, Income]  1.053254e+07   \n",
      "3                       [Rating, Income, Student_Yes]  4.227219e+06   \n",
      "4                [Rating, Income, Student_Yes, Limit]  4.032502e+06   \n",
      "5         [Rating, Income, Student_Yes, Limit, Cards]  3.866091e+06   \n",
      "6    [Rating, Income, Student_Yes, Limit, Cards, Age]  3.821620e+06   \n",
      "7   [Rating, Income, Student_Yes, Limit, Cards, Ag...  3.810759e+06   \n",
      "8   [Rating, Income, Student_Yes, Limit, Cards, Ag...  3.802227e+06   \n",
      "9   [Rating, Income, Student_Yes, Limit, Cards, Ag...  3.795415e+06   \n",
      "10  [Rating, Income, Student_Yes, Limit, Cards, Ag...  3.788550e+06   \n",
      "11  [Rating, Income, Student_Yes, Limit, Cards, Ag...  3.782619e+06   \n",
      "\n",
      "    R_squared  numb_features  \n",
      "1    0.745848              1  \n",
      "2    0.875118              2  \n",
      "3    0.949879              3  \n",
      "4    0.952188              4  \n",
      "5    0.954161              5  \n",
      "6    0.954688              6  \n",
      "7    0.954817              7  \n",
      "8    0.954918              8  \n",
      "9    0.954999              9  \n",
      "10   0.955080             10  \n",
      "11   0.955150             11  \n"
     ]
    }
   ],
   "source": [
    "print (df1)"
   ]
  },
  {
   "cell_type": "markdown",
   "metadata": {},
   "source": [
    "### Computing the $C_p$, AIC, BIC and $R^2$ adjusted\n"
   ]
  },
  {
   "cell_type": "code",
   "execution_count": 21,
   "metadata": {},
   "outputs": [
    {
     "data": {
      "text/html": [
       "<div>\n",
       "<style scoped>\n",
       "    .dataframe tbody tr th:only-of-type {\n",
       "        vertical-align: middle;\n",
       "    }\n",
       "\n",
       "    .dataframe tbody tr th {\n",
       "        vertical-align: top;\n",
       "    }\n",
       "\n",
       "    .dataframe thead th {\n",
       "        text-align: right;\n",
       "    }\n",
       "</style>\n",
       "<table border=\"1\" class=\"dataframe\">\n",
       "  <thead>\n",
       "    <tr style=\"text-align: right;\">\n",
       "      <th></th>\n",
       "      <th>features</th>\n",
       "      <th>RSS</th>\n",
       "      <th>R_squared</th>\n",
       "      <th>numb_features</th>\n",
       "      <th>C_p</th>\n",
       "      <th>AIC</th>\n",
       "      <th>BIC</th>\n",
       "      <th>R_squared_adj</th>\n",
       "    </tr>\n",
       "  </thead>\n",
       "  <tbody>\n",
       "    <tr>\n",
       "      <th>1</th>\n",
       "      <td>[Rating]</td>\n",
       "      <td>2.143512e+07</td>\n",
       "      <td>0.745848</td>\n",
       "      <td>1</td>\n",
       "      <td>53636.550177</td>\n",
       "      <td>5.501738</td>\n",
       "      <td>5.511717</td>\n",
       "      <td>0.745210</td>\n",
       "    </tr>\n",
       "    <tr>\n",
       "      <th>2</th>\n",
       "      <td>[Rating, Income]</td>\n",
       "      <td>1.053254e+07</td>\n",
       "      <td>0.875118</td>\n",
       "      <td>2</td>\n",
       "      <td>26428.843416</td>\n",
       "      <td>2.710923</td>\n",
       "      <td>2.730881</td>\n",
       "      <td>0.874489</td>\n",
       "    </tr>\n",
       "    <tr>\n",
       "      <th>3</th>\n",
       "      <td>[Rating, Income, Student_Yes]</td>\n",
       "      <td>4.227219e+06</td>\n",
       "      <td>0.949879</td>\n",
       "      <td>3</td>\n",
       "      <td>10714.283563</td>\n",
       "      <td>1.099011</td>\n",
       "      <td>1.128947</td>\n",
       "      <td>0.949499</td>\n",
       "    </tr>\n",
       "    <tr>\n",
       "      <th>4</th>\n",
       "      <td>[Rating, Income, Student_Yes, Limit]</td>\n",
       "      <td>4.032502e+06</td>\n",
       "      <td>0.952188</td>\n",
       "      <td>4</td>\n",
       "      <td>10276.234541</td>\n",
       "      <td>1.054079</td>\n",
       "      <td>1.093993</td>\n",
       "      <td>0.951703</td>\n",
       "    </tr>\n",
       "    <tr>\n",
       "      <th>5</th>\n",
       "      <td>[Rating, Income, Student_Yes, Limit, Cards]</td>\n",
       "      <td>3.866091e+06</td>\n",
       "      <td>0.954161</td>\n",
       "      <td>5</td>\n",
       "      <td>9908.953491</td>\n",
       "      <td>1.016405</td>\n",
       "      <td>1.066298</td>\n",
       "      <td>0.953579</td>\n",
       "    </tr>\n",
       "    <tr>\n",
       "      <th>6</th>\n",
       "      <td>[Rating, Income, Student_Yes, Limit, Cards, Age]</td>\n",
       "      <td>3.821620e+06</td>\n",
       "      <td>0.954688</td>\n",
       "      <td>6</td>\n",
       "      <td>9846.519746</td>\n",
       "      <td>1.010001</td>\n",
       "      <td>1.069873</td>\n",
       "      <td>0.953996</td>\n",
       "    </tr>\n",
       "    <tr>\n",
       "      <th>7</th>\n",
       "      <td>[Rating, Income, Student_Yes, Limit, Cards, Ag...</td>\n",
       "      <td>3.810759e+06</td>\n",
       "      <td>0.954817</td>\n",
       "      <td>7</td>\n",
       "      <td>9868.112600</td>\n",
       "      <td>1.012216</td>\n",
       "      <td>1.082067</td>\n",
       "      <td>0.954010</td>\n",
       "    </tr>\n",
       "    <tr>\n",
       "      <th>8</th>\n",
       "      <td>[Rating, Income, Student_Yes, Limit, Cards, Ag...</td>\n",
       "      <td>3.802227e+06</td>\n",
       "      <td>0.954918</td>\n",
       "      <td>8</td>\n",
       "      <td>9895.528903</td>\n",
       "      <td>1.015028</td>\n",
       "      <td>1.094857</td>\n",
       "      <td>0.953995</td>\n",
       "    </tr>\n",
       "    <tr>\n",
       "      <th>9</th>\n",
       "      <td>[Rating, Income, Student_Yes, Limit, Cards, Ag...</td>\n",
       "      <td>3.795415e+06</td>\n",
       "      <td>0.954999</td>\n",
       "      <td>9</td>\n",
       "      <td>9927.242405</td>\n",
       "      <td>1.018281</td>\n",
       "      <td>1.108089</td>\n",
       "      <td>0.953960</td>\n",
       "    </tr>\n",
       "    <tr>\n",
       "      <th>10</th>\n",
       "      <td>[Rating, Income, Student_Yes, Limit, Cards, Ag...</td>\n",
       "      <td>3.788550e+06</td>\n",
       "      <td>0.955080</td>\n",
       "      <td>10</td>\n",
       "      <td>9958.826469</td>\n",
       "      <td>1.021521</td>\n",
       "      <td>1.121307</td>\n",
       "      <td>0.953925</td>\n",
       "    </tr>\n",
       "    <tr>\n",
       "      <th>11</th>\n",
       "      <td>[Rating, Income, Student_Yes, Limit, Cards, Ag...</td>\n",
       "      <td>3.782619e+06</td>\n",
       "      <td>0.955150</td>\n",
       "      <td>11</td>\n",
       "      <td>9992.744547</td>\n",
       "      <td>1.025000</td>\n",
       "      <td>1.134765</td>\n",
       "      <td>0.953879</td>\n",
       "    </tr>\n",
       "  </tbody>\n",
       "</table>\n",
       "</div>"
      ],
      "text/plain": [
       "                                             features           RSS  \\\n",
       "1                                            [Rating]  2.143512e+07   \n",
       "2                                    [Rating, Income]  1.053254e+07   \n",
       "3                       [Rating, Income, Student_Yes]  4.227219e+06   \n",
       "4                [Rating, Income, Student_Yes, Limit]  4.032502e+06   \n",
       "5         [Rating, Income, Student_Yes, Limit, Cards]  3.866091e+06   \n",
       "6    [Rating, Income, Student_Yes, Limit, Cards, Age]  3.821620e+06   \n",
       "7   [Rating, Income, Student_Yes, Limit, Cards, Ag...  3.810759e+06   \n",
       "8   [Rating, Income, Student_Yes, Limit, Cards, Ag...  3.802227e+06   \n",
       "9   [Rating, Income, Student_Yes, Limit, Cards, Ag...  3.795415e+06   \n",
       "10  [Rating, Income, Student_Yes, Limit, Cards, Ag...  3.788550e+06   \n",
       "11  [Rating, Income, Student_Yes, Limit, Cards, Ag...  3.782619e+06   \n",
       "\n",
       "    R_squared  numb_features           C_p       AIC       BIC  R_squared_adj  \n",
       "1    0.745848              1  53636.550177  5.501738  5.511717       0.745210  \n",
       "2    0.875118              2  26428.843416  2.710923  2.730881       0.874489  \n",
       "3    0.949879              3  10714.283563  1.099011  1.128947       0.949499  \n",
       "4    0.952188              4  10276.234541  1.054079  1.093993       0.951703  \n",
       "5    0.954161              5   9908.953491  1.016405  1.066298       0.953579  \n",
       "6    0.954688              6   9846.519746  1.010001  1.069873       0.953996  \n",
       "7    0.954817              7   9868.112600  1.012216  1.082067       0.954010  \n",
       "8    0.954918              8   9895.528903  1.015028  1.094857       0.953995  \n",
       "9    0.954999              9   9927.242405  1.018281  1.108089       0.953960  \n",
       "10   0.955080             10   9958.826469  1.021521  1.121307       0.953925  \n",
       "11   0.955150             11   9992.744547  1.025000  1.134765       0.953879  "
      ]
     },
     "execution_count": 21,
     "metadata": {},
     "output_type": "execute_result"
    }
   ],
   "source": [
    "#Initializing useful variables\n",
    "m = len(Y)\n",
    "p = 11\n",
    "hat_sigma_squared = (1/(m - p -1)) * min(df1['RSS'])\n",
    "\n",
    "#Computing\n",
    "df1['C_p'] = (1/m) * (df1['RSS'] + 2 * df1['numb_features'] * hat_sigma_squared )\n",
    "df1['AIC'] = (1/(m*hat_sigma_squared)) * (df1['RSS'] + 2 * df1['numb_features'] * hat_sigma_squared )\n",
    "df1['BIC'] = (1/(m*hat_sigma_squared)) * (df1['RSS'] +  np.log(m) * df1['numb_features'] * hat_sigma_squared )\n",
    "df1['R_squared_adj'] = 1 - ( (1 - df1['R_squared'])*(m-1)/(m-df1['numb_features'] -1))\n",
    "df1"
   ]
  },
  {
   "cell_type": "code",
   "execution_count": 22,
   "metadata": {},
   "outputs": [
    {
     "data": {
      "text/plain": [
       "53636.55017718364"
      ]
     },
     "execution_count": 22,
     "metadata": {},
     "output_type": "execute_result"
    }
   ],
   "source": [
    "#df1['R_squared_adj'].idxmax()\n",
    "#df1['R_squared_adj'].max()\n",
    "\n",
    "\n",
    "df1['C_p'].max()"
   ]
  },
  {
   "cell_type": "markdown",
   "metadata": {},
   "source": [
    "### Plotting the computed values as a function of number of features\n"
   ]
  },
  {
   "cell_type": "code",
   "execution_count": 27,
   "metadata": {},
   "outputs": [
    {
     "data": {
      "image/png": "[encoded data removed]",
      "text/plain": [
       "<Figure size 1800x600 with 4 Axes>"
      ]
     },
     "metadata": {},
     "output_type": "display_data"
    }
   ],
   "source": [
    "variables = ['C_p', 'AIC','BIC','R_squared_adj']\n",
    "fig = plt.figure(figsize = (18,6))\n",
    "\n",
    "for i,v in enumerate(variables):\n",
    "    ax = fig.add_subplot(1, 4, i+1)\n",
    "    ax.plot(df1['numb_features'],df1[v], color = 'lightblue')\n",
    "    ax.scatter(df1['numb_features'],df1[v], color = 'darkblue')\n",
    "    if v == 'R_squared_adj':\n",
    "        ax.plot(df1[v].idxmax(),df1[v].max(), marker = 'x', markersize = 20)\n",
    "    else:\n",
    "        ax.plot(df1[v].idxmin(),df1[v].min(), marker = 'x', markersize = 20)\n",
    "    ax.set_xlabel('Number of predictors')\n",
    "    ax.set_ylabel(v)\n",
    "\n",
    "fig.suptitle('Subset selection using C_p, AIC, BIC, Adjusted R2', fontsize = 16)\n",
    "plt.show()\n"
   ]
  },
  {
   "cell_type": "markdown",
   "metadata": {},
   "source": [
    " <font color='red'>Based on the computed criteria, how would you decide? Which model with which predictors would you select?</font>"
   ]
  },
  {
   "cell_type": "markdown",
   "metadata": {},
   "source": [
    "Since the number of predictors can be defined as the number of \"independent variables\" we want to utilize, it is always better to select under the idea of not overfitting the data we're studying (therefore, using the LASSO and Ridge regression), but for these cases, it's best to consider the value from the $C_p$ model since, for AIC and BIC, the model might end up under or overfitting the data due to the dependence and penalization with the quantity, while as $C_p$ can be complemented if the data is well modeled and can be divided into subgroups. \n",
    "\n",
    "In general, it can depend on the type and quantity of the data, but I would choose the predictors based on the score of each model and the actual data we're working on (and if the number is within a range, I would apply the same but probably also including a bias towards the middle and lower number of predictors to avoid unnecessary complexity)."
   ]
  },
  {
   "cell_type": "markdown",
   "metadata": {
    "slideshow": {
     "slide_type": "slide"
    }
   },
   "source": [
    "## Summary <a class=\"anchor\" id=\"fourth-bullet\"></a>\n",
    "\n",
    "At this point, all of you should have:\n",
    "* seen how to prepare data for linear regression\n",
    "*  seen how to apply linear regression in `sklearn`\n",
    "*  implementing best subset and forward subset selection\n",
    "* learned how to compare linear regression models."
   ]
  },
  {
   "cell_type": "code",
   "execution_count": null,
   "metadata": {},
   "outputs": [],
   "source": []
  }
 ],
 "metadata": {
  "anaconda-cloud": {},
  "kernelspec": {
   "display_name": "base",
   "language": "python",
   "name": "python3"
  },
  "language_info": {
   "codemirror_mode": {
    "name": "ipython",
    "version": 3
   },
   "file_extension": ".py",
   "mimetype": "text/x-python",
   "name": "python",
   "nbconvert_exporter": "python",
   "pygments_lexer": "ipython3",
   "version": "3.11.0"
  }
 },
 "nbformat": 4,
 "nbformat_minor": 4
}
